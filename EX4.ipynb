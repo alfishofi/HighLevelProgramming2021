{
 "cells": [
  {
   "cell_type": "markdown",
   "metadata": {},
   "source": [
    "1\\. Find the total mean, and the mean for each row and column of the following matrix:\n",
    "\n",
    "```python\n",
    "m = np.arange(12).reshape((3,4))\n",
    "```"
   ]
  },
  {
   "cell_type": "code",
   "execution_count": 9,
   "metadata": {},
   "outputs": [
    {
     "name": "stdout",
     "output_type": "stream",
     "text": [
      "Matrix: \n",
      " [[ 0  1  2  3]\n",
      " [ 4  5  6  7]\n",
      " [ 8  9 10 11]]\n",
      "\n",
      "Total Mean =  5.5\n",
      "\n",
      "Mean Row 1 =  1.5\n",
      "\n",
      "Mean Row 2 =  5.5\n",
      "\n",
      "Mean Row 3 =  9.5\n",
      "\n",
      "Mean Col 1 =  4.0\n",
      "\n",
      "Mean Col 2 =  5.0\n",
      "\n",
      "Mean Col 3 =  6.0\n",
      "\n",
      "Mean Col 4 =  7.0\n"
     ]
    }
   ],
   "source": [
    "import numpy as np\n",
    "\n",
    "m = np.arange(12).reshape((3,4))\n",
    "\n",
    "print(\"Matrix: \\n\", m)\n",
    "print(\"\\nTotal Mean = \", m.mean())\n",
    "print(\"\\nMean Row 1 = \", np.mean(m[0]))\n",
    "print(\"\\nMean Row 2 = \", np.mean(m[1]))\n",
    "print(\"\\nMean Row 3 = \", np.mean(m[2]))\n",
    "\n",
    "print(\"\\nMean Col 1 = \", np.mean(m[:,0])) #every row(:) and col [0]\n",
    "print(\"\\nMean Col 2 = \", np.mean(m[:,1])) #every row(:) and col [1]\n",
    "print(\"\\nMean Col 3 = \", np.mean(m[:,2])) #every row(:) and col [2]\n",
    "print(\"\\nMean Col 4 = \", np.mean(m[:,3])) #every row(:) and col [3]"
   ]
  },
  {
   "cell_type": "markdown",
   "metadata": {},
   "source": [
    "2\\. Find the outer product of the following vectors:\n",
    "\n",
    "```python\n",
    "u = np.array([1, 3, 5, 7])\n",
    "v = np.array([2, 4, 6, 8])\n",
    "```\n",
    "\n",
    "Use different methods to do this:\n",
    "\n",
    "   1. Using the function `outer` in numpy\n",
    "   2. Using a nested `for` loop or a list comprehension\n",
    "   3. Using numpy broadcasting operations"
   ]
  },
  {
   "cell_type": "code",
   "execution_count": 10,
   "metadata": {},
   "outputs": [],
   "source": [
    "# Note:\n",
    "# outer : u = [u0, u1, .... , uM]\n",
    "#         v = [v0, v1, ... , vN]\n",
    "#         outer = [[u0*v0, u0*v1, .... , u0*vM]\n",
    "#                  [......]\n",
    "#                  [u3*v0, u3*v3, ... , ]\n",
    "#                  [uM*v0, uM*v1, .... , uM*vM]\n",
    "\n",
    "# numpy.outer(a, b, out = None)\n",
    "# a: array_like – It is the first input vector. The input is flattened if it is not 1- dimensional.\n",
    "# b: array_like – It is the second input vector. The input is flattened if it is not 1- dimensional.\n",
    "# Out: ndarray – It is optional in the function. It is the location where we store the result.\n",
    "#Result: out[i, j] = a[i] * b[j]."
   ]
  },
  {
   "cell_type": "code",
   "execution_count": 11,
   "metadata": {},
   "outputs": [
    {
     "name": "stdout",
     "output_type": "stream",
     "text": [
      "Array u =  [1 3 5 7]\n",
      "Array v =  [2 4 6 8]\n",
      "\n",
      "Output using Numpy= \n",
      " [[ 2  4  6  8]\n",
      " [ 6 12 18 24]\n",
      " [10 20 30 40]\n",
      " [14 28 42 56]]\n"
     ]
    }
   ],
   "source": [
    "#using Outer numpy\n",
    "u = np.array([1, 3, 5, 7])\n",
    "v = np.array([2, 4, 6, 8])\n",
    "\n",
    "print(\"Array u = \", u)\n",
    "print(\"Array v = \", v)\n",
    "\n",
    "output_outer_numpy = np.outer(u, v)   \n",
    "print(\"\\nOutput using Numpy= \\n\", output_outer_numpy)"
   ]
  },
  {
   "cell_type": "code",
   "execution_count": 4,
   "metadata": {},
   "outputs": [
    {
     "name": "stdout",
     "output_type": "stream",
     "text": [
      "0\n",
      "[[2 0 0 0]\n",
      " [0 0 0 0]\n",
      " [0 0 0 0]\n",
      " [0 0 0 0]]\n",
      "[[2 4 0 0]\n",
      " [0 0 0 0]\n",
      " [0 0 0 0]\n",
      " [0 0 0 0]]\n",
      "[[2 4 6 0]\n",
      " [0 0 0 0]\n",
      " [0 0 0 0]\n",
      " [0 0 0 0]]\n",
      "[[2 4 6 8]\n",
      " [0 0 0 0]\n",
      " [0 0 0 0]\n",
      " [0 0 0 0]]\n",
      "[[2 4 6 8]\n",
      " [6 0 0 0]\n",
      " [0 0 0 0]\n",
      " [0 0 0 0]]\n",
      "[[ 2  4  6  8]\n",
      " [ 6 12  0  0]\n",
      " [ 0  0  0  0]\n",
      " [ 0  0  0  0]]\n",
      "[[ 2  4  6  8]\n",
      " [ 6 12 18  0]\n",
      " [ 0  0  0  0]\n",
      " [ 0  0  0  0]]\n",
      "[[ 2  4  6  8]\n",
      " [ 6 12 18 24]\n",
      " [ 0  0  0  0]\n",
      " [ 0  0  0  0]]\n",
      "[[ 2  4  6  8]\n",
      " [ 6 12 18 24]\n",
      " [10  0  0  0]\n",
      " [ 0  0  0  0]]\n",
      "[[ 2  4  6  8]\n",
      " [ 6 12 18 24]\n",
      " [10 20  0  0]\n",
      " [ 0  0  0  0]]\n",
      "[[ 2  4  6  8]\n",
      " [ 6 12 18 24]\n",
      " [10 20 30  0]\n",
      " [ 0  0  0  0]]\n",
      "[[ 2  4  6  8]\n",
      " [ 6 12 18 24]\n",
      " [10 20 30 40]\n",
      " [ 0  0  0  0]]\n",
      "[[ 2  4  6  8]\n",
      " [ 6 12 18 24]\n",
      " [10 20 30 40]\n",
      " [14  0  0  0]]\n",
      "[[ 2  4  6  8]\n",
      " [ 6 12 18 24]\n",
      " [10 20 30 40]\n",
      " [14 28  0  0]]\n",
      "[[ 2  4  6  8]\n",
      " [ 6 12 18 24]\n",
      " [10 20 30 40]\n",
      " [14 28 42  0]]\n",
      "[[ 2  4  6  8]\n",
      " [ 6 12 18 24]\n",
      " [10 20 30 40]\n",
      " [14 28 42 56]]\n"
     ]
    }
   ],
   "source": [
    "#using Outer nested loop\n",
    "u = np.array([1, 3, 5, 7])\n",
    "v = np.array([2, 4, 6, 8])\n",
    "\n",
    "w = np.zeros((len(u), len(v)), dtype = int) #initialitation for the new matrix\n",
    "\n",
    "print(w[0,0])\n",
    "for i in range(len(u)):\n",
    "    for j in range(len(v)):\n",
    "        w[i, j] = u[i]*v[j]   \n",
    "        print(w)"
   ]
  },
  {
   "cell_type": "code",
   "execution_count": 12,
   "metadata": {},
   "outputs": [
    {
     "name": "stdout",
     "output_type": "stream",
     "text": [
      "Array u =  [1 3 5 7]\n",
      "Array v =  [2 4 6 8]\n",
      "\n",
      "Output using Broadcast= \n",
      " [[ 2  4  6  8]\n",
      " [ 6 12 18 24]\n",
      " [10 20 30 40]\n",
      " [14 28 42 56]]\n"
     ]
    }
   ],
   "source": [
    "#using Broadcasting\n",
    "u = np.array([1, 3, 5, 7])\n",
    "v = np.array([2, 4, 6, 8])\n",
    "\n",
    "w = np.array([v*u[0], v*u[1], v*u[2], v*u[3]])\n",
    "\n",
    "print(\"Array u = \", u)\n",
    "print(\"Array v = \", v)\n",
    "\n",
    "print(\"\\nOutput using Broadcast= \\n\", w)                    "
   ]
  },
  {
   "cell_type": "markdown",
   "metadata": {},
   "source": [
    "3\\. Create a 10 by 6 matrix of increasing float numbers, starting from zero and increasing in each step by 0.1, so the output matrix looks like the following:\n",
    "\n",
    "```python\n",
    "m = [[0. 0.1, 0.2 0.3 ... 0.9]\n",
    "     [1.0 1.1 1.2 1.3 ... 1.9]\n",
    "     ...\n",
    "     [5.0 5.1 5.2 5.3 ... 5.9]]\n",
    "```\n",
    "After creating the matrix, set all entries with a decimal part $< 0.4$ to zero."
   ]
  },
  {
   "cell_type": "code",
   "execution_count": 13,
   "metadata": {},
   "outputs": [
    {
     "name": "stdout",
     "output_type": "stream",
     "text": [
      "[[0.  0.1 0.2 0.3 0.4 0.5 0.6 0.7 0.8 0.9]\n",
      " [1.  1.1 1.2 1.3 1.4 1.5 1.6 1.7 1.8 1.9]\n",
      " [2.  2.1 2.2 2.3 2.4 2.5 2.6 2.7 2.8 2.9]\n",
      " [3.  3.1 3.2 3.3 3.4 3.5 3.6 3.7 3.8 3.9]\n",
      " [4.  4.1 4.2 4.3 4.4 4.5 4.6 4.7 4.8 4.9]\n",
      " [5.  5.1 5.2 5.3 5.4 5.5 5.6 5.7 5.8 5.9]]\n",
      "\n",
      " [[0.  0.  0.  0.  0.4 0.5 0.6 0.7 0.8 0.9]\n",
      " [0.  0.  0.  0.  1.4 1.5 1.6 1.7 1.8 1.9]\n",
      " [0.  0.  0.  0.  2.4 2.5 2.6 2.7 2.8 2.9]\n",
      " [0.  0.  0.  0.  3.4 3.5 3.6 3.7 3.8 3.9]\n",
      " [0.  0.  0.  0.  4.4 4.5 4.6 4.7 4.8 4.9]\n",
      " [0.  0.  0.  0.  5.4 5.5 5.6 5.7 5.8 5.9]]\n"
     ]
    }
   ],
   "source": [
    "m = np.arange(0, 6, 0.1).reshape((6,10))\n",
    "\n",
    "print(m)\n",
    "\n",
    "for i in range(6):\n",
    "    for j in range(10):\n",
    "        if m[i][j] % 1 < 0.4:\n",
    "            m[i][j] = 0\n",
    "print(\"\\n\", m)\n"
   ]
  },
  {
   "cell_type": "markdown",
   "metadata": {},
   "source": [
    "4\\. Use `np.linspace` to create an array of 100 numbers between 0 and 2π (inclusive).\n",
    "\n",
    "  * Extract every 10th element using the slice notation\n",
    "  * Reverse the array using the slice notation\n",
    "  * Extract elements where the absolute difference between the sin and cos functions evaluated for that element is $< 0.1$\n",
    "  * **Optional**: make a plot showing the sin and cos functions and indicate where they are close"
   ]
  },
  {
   "cell_type": "code",
   "execution_count": 14,
   "metadata": {},
   "outputs": [
    {
     "name": "stdout",
     "output_type": "stream",
     "text": [
      "Array: \n",
      " [0.         0.06346652 0.12693304 0.19039955 0.25386607 0.31733259\n",
      " 0.38079911 0.44426563 0.50773215 0.57119866 0.63466518 0.6981317\n",
      " 0.76159822 0.82506474 0.88853126 0.95199777 1.01546429 1.07893081\n",
      " 1.14239733 1.20586385 1.26933037 1.33279688 1.3962634  1.45972992\n",
      " 1.52319644 1.58666296 1.65012947 1.71359599 1.77706251 1.84052903\n",
      " 1.90399555 1.96746207 2.03092858 2.0943951  2.15786162 2.22132814\n",
      " 2.28479466 2.34826118 2.41172769 2.47519421 2.53866073 2.60212725\n",
      " 2.66559377 2.72906028 2.7925268  2.85599332 2.91945984 2.98292636\n",
      " 3.04639288 3.10985939 3.17332591 3.23679243 3.30025895 3.36372547\n",
      " 3.42719199 3.4906585  3.55412502 3.61759154 3.68105806 3.74452458\n",
      " 3.8079911  3.87145761 3.93492413 3.99839065 4.06185717 4.12532369\n",
      " 4.1887902  4.25225672 4.31572324 4.37918976 4.44265628 4.5061228\n",
      " 4.56958931 4.63305583 4.69652235 4.75998887 4.82345539 4.88692191\n",
      " 4.95038842 5.01385494 5.07732146 5.14078798 5.2042545  5.26772102\n",
      " 5.33118753 5.39465405 5.45812057 5.52158709 5.58505361 5.64852012\n",
      " 5.71198664 5.77545316 5.83891968 5.9023862  5.96585272 6.02931923\n",
      " 6.09278575 6.15625227 6.21971879 6.28318531]\n",
      "\n",
      "Extracting every 10th element: \n",
      " [0.57119866 1.20586385 1.84052903 2.47519421 3.10985939 3.74452458\n",
      " 4.37918976 5.01385494 5.64852012 6.28318531]\n",
      "\n",
      "Reverse the array using the slice notation: \n",
      " [6.28318531 6.21971879 6.15625227 6.09278575 6.02931923 5.96585272\n",
      " 5.9023862  5.83891968 5.77545316 5.71198664 5.64852012 5.58505361\n",
      " 5.52158709 5.45812057 5.39465405 5.33118753 5.26772102 5.2042545\n",
      " 5.14078798 5.07732146 5.01385494 4.95038842 4.88692191 4.82345539\n",
      " 4.75998887 4.69652235 4.63305583 4.56958931 4.5061228  4.44265628\n",
      " 4.37918976 4.31572324 4.25225672 4.1887902  4.12532369 4.06185717\n",
      " 3.99839065 3.93492413 3.87145761 3.8079911  3.74452458 3.68105806\n",
      " 3.61759154 3.55412502 3.4906585  3.42719199 3.36372547 3.30025895\n",
      " 3.23679243 3.17332591 3.10985939 3.04639288 2.98292636 2.91945984\n",
      " 2.85599332 2.7925268  2.72906028 2.66559377 2.60212725 2.53866073\n",
      " 2.47519421 2.41172769 2.34826118 2.28479466 2.22132814 2.15786162\n",
      " 2.0943951  2.03092858 1.96746207 1.90399555 1.84052903 1.77706251\n",
      " 1.71359599 1.65012947 1.58666296 1.52319644 1.45972992 1.3962634\n",
      " 1.33279688 1.26933037 1.20586385 1.14239733 1.07893081 1.01546429\n",
      " 0.95199777 0.88853126 0.82506474 0.76159822 0.6981317  0.63466518\n",
      " 0.57119866 0.50773215 0.44426563 0.38079911 0.31733259 0.25386607\n",
      " 0.19039955 0.12693304 0.06346652 0.        ]\n",
      "\n",
      "Extract elements where the absolute difference between the sin and cos functions evaluated for that element is < 0.1: \n",
      " [0.06346652 0.12693304 0.19039955 0.25386607 0.31733259 0.38079911\n",
      " 0.44426563 0.50773215 0.57119866 0.63466518 0.6981317  0.76159822\n",
      " 0.82506474 0.88853126 0.95199777 1.01546429 1.07893081 1.14239733\n",
      " 1.20586385 1.26933037 1.33279688 1.3962634  1.45972992 1.52319644\n",
      " 3.17332591 3.23679243 3.30025895 3.36372547 3.42719199 3.4906585\n",
      " 3.55412502 3.61759154 3.68105806 3.74452458 3.8079911  3.87145761\n",
      " 3.93492413 3.99839065 4.06185717 4.12532369 4.1887902  4.25225672\n",
      " 4.31572324 4.37918976 4.44265628 4.5061228  4.56958931 4.63305583\n",
      " 4.69652235]\n"
     ]
    },
    {
     "data": {
      "text/plain": [
       "<function matplotlib.pyplot.show(close=None, block=None)>"
      ]
     },
     "execution_count": 14,
     "metadata": {},
     "output_type": "execute_result"
    },
    {
     "data": {
      "image/png": "[encoded data removed]",
      "text/plain": [
       "<Figure size 432x288 with 1 Axes>"
      ]
     },
     "metadata": {
      "needs_background": "light"
     },
     "output_type": "display_data"
    }
   ],
   "source": [
    "arr = np.linspace(0, 2*np.pi, num = 100)\n",
    "print(\"Array: \\n\", arr)\n",
    "\n",
    "#Extract every 10th element using the slice notation\n",
    "element10th = arr[9:100:10]\n",
    "print(\"\\nExtracting every 10th element: \\n\", element10th)\n",
    "\n",
    "#Reverse the array using the slice notation\n",
    "element_rev = arr[::-1]\n",
    "print(\"\\nReverse the array using the slice notation: \\n\", element_rev)\n",
    "\n",
    "#Extract elements where the absolute difference between the sin and cos functions evaluated for that element is  <0.1\n",
    "element_sincos = np.extract( abs(np.sin(arr) - np.cos(arr)) <1, arr)\n",
    "print(\"\\nExtract elements where the absolute difference between the sin and cos functions evaluated for that element is < 0.1: \\n\", element_sincos)\n",
    "\n",
    "#Make a plot showing the sin and cos functions and indicate where they are close\n",
    "import matplotlib.pyplot as plt\n",
    "%matplotlib inline\n",
    "\n",
    "sin = np.sin(arr)\n",
    "cos = np.cos(arr)\n",
    "plt.plot(arr, sin, arr,cos)\n",
    "plt.title(\"A Plot showing the sin and cos functions\")\n",
    "plt.xlabel(\"100 numbers between 0 and 2π (inclusive)\")\n",
    "plt.ylabel(\"sin(x) and cos(x)\")\n",
    "plt.legend([\"sin(x)\",\"cos(x)\"])\n",
    "plt.show"
   ]
  },
  {
   "cell_type": "markdown",
   "metadata": {},
   "source": [
    "5\\. Create a matrix that shows the 10 by 10 multiplication table.\n",
    "\n",
    " * Find the trace of the matrix\n",
    " * Extract the anti-diagonal matrix (this should be ```array([10, 18, 24, 28, 30, 30, 28, 24, 18, 10])```)\n",
    " * Extract the diagonal offset by 1 upwards (this should be ```array([ 2,  6, 12, 20, 30, 42, 56, 72, 90])```)"
   ]
  },
  {
   "cell_type": "code",
   "execution_count": 16,
   "metadata": {},
   "outputs": [
    {
     "name": "stdout",
     "output_type": "stream",
     "text": [
      "Matrix: \n",
      " [[  1   2   3   4   5   6   7   8   9  10]\n",
      " [  2   4   6   8  10  12  14  16  18  20]\n",
      " [  3   6   9  12  15  18  21  24  27  30]\n",
      " [  4   8  12  16  20  24  28  32  36  40]\n",
      " [  5  10  15  20  25  30  35  40  45  50]\n",
      " [  6  12  18  24  30  36  42  48  54  60]\n",
      " [  7  14  21  28  35  42  49  56  63  70]\n",
      " [  8  16  24  32  40  48  56  64  72  80]\n",
      " [  9  18  27  36  45  54  63  72  81  90]\n",
      " [ 10  20  30  40  50  60  70  80  90 100]]\n",
      "\n",
      "Trace of the matrix: \n",
      " 385\n",
      "\n",
      "The anti-diagonal matrix: \n",
      " [10 18 24 28 30 30 28 24 18 10]\n",
      "\n",
      "The diagonal offset by 1 upwards: \n",
      " [ 2  6 12 20 30 42 56 72 90]\n"
     ]
    }
   ],
   "source": [
    "m1 = np.arange(1, 11).reshape(10, 1)\n",
    "m2 = np.arange(1, 11)\n",
    "m = np.multiply(m1, m2)\n",
    "\n",
    "print(\"Matrix: \\n\", m)\n",
    "\n",
    "#Find the trace of the matrix\n",
    "print(\"\\nTrace of the matrix: \\n\", m.trace())\n",
    "\n",
    "#Extract the anti-diagonal matrix (this should be array([10, 18, 24, 28, 30, 30, 28, 24, 18, 10]))\n",
    "mflip = np.fliplr(m)\n",
    "print(\"\\nThe anti-diagonal matrix: \\n\",np.diag(mflip))\n",
    "\n",
    "#Extract the diagonal offset by 1 upwards (this should be array([ 2,  6, 12, 20, 30, 42, 56, 72, 90]))\n",
    "m_2ndrow = m[1:, :]\n",
    "print(\"\\nThe diagonal offset by 1 upwards: \\n\", np.diag(m_2ndrow))\n"
   ]
  },
  {
   "cell_type": "markdown",
   "metadata": {},
   "source": [
    "6\\. Use broadcasting to create a grid of distances.\n",
    "\n",
    "Route 66 crosses the following cities in the US: Chicago, Springfield, Saint-Louis, Tulsa, Oklahoma City, Amarillo, Santa Fe, Albuquerque, Flagstaff, Los Angeles\n",
    "The corresponding positions in miles are: 0, 198, 303, 736, 871, 1175, 1475, 1544, 1913, 2448\n",
    "\n",
    "  * Build a 2D grid of distances among each city along Route 66\n",
    "  * Convert the distances in km"
   ]
  },
  {
   "cell_type": "code",
   "execution_count": 18,
   "metadata": {},
   "outputs": [
    {
     "name": "stdout",
     "output_type": "stream",
     "text": [
      "Distance in miles: \n",
      " [[   0  198  303  736  871 1175 1475 1544 1913 2448]\n",
      " [ 198    0  105  538  673  977 1277 1346 1715 2250]\n",
      " [ 303  105    0  433  568  872 1172 1241 1610 2145]\n",
      " [ 736  538  433    0  135  439  739  808 1177 1712]\n",
      " [ 871  673  568  135    0  304  604  673 1042 1577]\n",
      " [1175  977  872  439  304    0  300  369  738 1273]\n",
      " [1475 1277 1172  739  604  300    0   69  438  973]\n",
      " [1544 1346 1241  808  673  369   69    0  369  904]\n",
      " [1913 1715 1610 1177 1042  738  438  369    0  535]\n",
      " [2448 2250 2145 1712 1577 1273  973  904  535    0]]\n",
      "\n",
      "Distance in km: \n",
      " [[   0.  319.  488. 1184. 1402. 1891. 2374. 2485. 3079. 3940.]\n",
      " [ 319.    0.  169.  866. 1083. 1572. 2055. 2166. 2760. 3621.]\n",
      " [ 488.  169.    0.  697.  914. 1403. 1886. 1997. 2591. 3452.]\n",
      " [1184.  866.  697.    0.  217.  707. 1189. 1300. 1894. 2755.]\n",
      " [1402. 1083.  914.  217.    0.  489.  972. 1083. 1677. 2538.]\n",
      " [1891. 1572. 1403.  707.  489.    0.  483.  594. 1188. 2049.]\n",
      " [2374. 2055. 1886. 1189.  972.  483.    0.  111.  705. 1566.]\n",
      " [2485. 2166. 1997. 1300. 1083.  594.  111.    0.  594. 1455.]\n",
      " [3079. 2760. 2591. 1894. 1677. 1188.  705.  594.    0.  861.]\n",
      " [3940. 3621. 3452. 2755. 2538. 2049. 1566. 1455.  861.    0.]]\n"
     ]
    }
   ],
   "source": [
    "miles = np.array([0, 198, 303, 736, 871, 1175, 1475, 1544, 1913, 2448])\n",
    "city = np.array([\"Chicago\", \"Springfield\", \"Saint-Louis\", \"Tulsa\", \"Oklahoma City\", \"Amarillo\", \"Santa Fe\", \"Albuquerque\", \"Flagstaff\", \"Los Angeles\"])\n",
    "\n",
    "#Build a 2D grid of distances among each city along Route 66\n",
    "#newaxis is used to increase the dimension of the existing array by one more dimension, when used once.\n",
    "\n",
    "# 1D array will become 2D array\n",
    "# 2D array will become 3D array\n",
    "# 3D array will become 4D array\n",
    "# 4D array will become 5D array\n",
    "\n",
    "distance_miles = np.abs(miles - miles[:, np.newaxis])\n",
    "distance_km = distance_miles*1.60934\n",
    "print(\"Distance in miles: \\n\", distance_miles)\n",
    "print(\"\\nDistance in km: \\n\", distance_km.round())"
   ]
  },
  {
   "cell_type": "markdown",
   "metadata": {},
   "source": [
    "7\\. Prime numbers sieve: compute the prime numbers in the 0-N (start with N=99) range with a sieve (mask).\n",
    "  * Check the performances (timeit); how does it scale with N?\n",
    "  * Implement the optimization suggested in the [sieve of Eratosthenes](https://en.wikipedia.org/wiki/Sieve_of_Eratosthenes)"
   ]
  },
  {
   "cell_type": "code",
   "execution_count": 19,
   "metadata": {},
   "outputs": [
    {
     "name": "stdout",
     "output_type": "stream",
     "text": [
      "prime_num [ 1  2  3  5  7 11 13 17 19 23 29 31 37 41 43 47 53 59 61 67 71 73 79 83\n",
      " 89 97]\n",
      "Required tim in second is 2.340000000344844e-05\n"
     ]
    }
   ],
   "source": [
    "import math as m\n",
    "\n",
    "def prime(n):\n",
    "    if n%2 == 0 and n > 2:\n",
    "        return False\n",
    "    return all(n % i for i in range(3, int(m.sqrt(n)) + 1, 2))\n",
    "\n",
    "num = np.arange(1, 100)\n",
    "# original_number = sorted(num, reverse = True)\n",
    "# print(\"Original numbers: \\n\", original_number)\n",
    "\n",
    "foo = np.vectorize(prime)\n",
    "pbools = foo(num)\n",
    "prime_num = np.extract(pbools, num)\n",
    "\n",
    "print(\"prime_num\", prime_num )\n",
    "    \n",
    "#Check the performances (timeit); how does it scale with N\n",
    "import timeit\n",
    "start = timeit.default_timer()\n",
    "end = timeit.default_timer()\n",
    "performance = end - start\n",
    "print(\"Required tim in second is \"+str(performance))"
   ]
  }
 ],
 "metadata": {
  "kernelspec": {
   "display_name": "Python 3",
   "language": "python",
   "name": "python3"
  },
  "language_info": {
   "codemirror_mode": {
    "name": "ipython",
    "version": 3
   },
   "file_extension": ".py",
   "mimetype": "text/x-python",
   "name": "python",
   "nbconvert_exporter": "python",
   "pygments_lexer": "ipython3",
   "version": "3.8.8"
  }
 },
 "nbformat": 4,
 "nbformat_minor": 2
}
