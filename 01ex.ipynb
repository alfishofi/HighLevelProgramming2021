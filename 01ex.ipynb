{
 "cells": [
  {
   "cell_type": "markdown",
   "id": "478ab06b",
   "metadata": {},
   "source": [
    "# 1. The HelloWorld replacement\n",
    "    a) Write a program that prints the numbers from 1 to 100. But for multiples of three print \"Hello\" instead of the number\n",
    "    and for the multiples of five print \"World\". For numbers which are multiples of both three and five print \"HelloWorld\".\n",
    "    b) Put the result in a tuple and substitute \"Hello\" with \"Python\" and \"World\" with \"Works\"."
   ]
  },
  {
   "cell_type": "code",
   "execution_count": 1,
   "id": "d73e384f",
   "metadata": {},
   "outputs": [
    {
     "name": "stdout",
     "output_type": "stream",
     "text": [
      "1\n",
      "2\n",
      "Hello\n",
      "4\n",
      "World\n",
      "Hello\n",
      "7\n",
      "8\n",
      "Hello\n",
      "World\n",
      "11\n",
      "Hello\n",
      "13\n",
      "14\n",
      "HelloWorld\n",
      "16\n",
      "17\n",
      "Hello\n",
      "19\n",
      "World\n",
      "Hello\n",
      "22\n",
      "23\n",
      "Hello\n",
      "World\n",
      "26\n",
      "Hello\n",
      "28\n",
      "29\n",
      "HelloWorld\n",
      "31\n",
      "32\n",
      "Hello\n",
      "34\n",
      "World\n",
      "Hello\n",
      "37\n",
      "38\n",
      "Hello\n",
      "World\n",
      "41\n",
      "Hello\n",
      "43\n",
      "44\n",
      "HelloWorld\n",
      "46\n",
      "47\n",
      "Hello\n",
      "49\n",
      "World\n",
      "Hello\n",
      "52\n",
      "53\n",
      "Hello\n",
      "World\n",
      "56\n",
      "Hello\n",
      "58\n",
      "59\n",
      "HelloWorld\n",
      "61\n",
      "62\n",
      "Hello\n",
      "64\n",
      "World\n",
      "Hello\n",
      "67\n",
      "68\n",
      "Hello\n",
      "World\n",
      "71\n",
      "Hello\n",
      "73\n",
      "74\n",
      "HelloWorld\n",
      "76\n",
      "77\n",
      "Hello\n",
      "79\n",
      "World\n",
      "Hello\n",
      "82\n",
      "83\n",
      "Hello\n",
      "World\n",
      "86\n",
      "Hello\n",
      "88\n",
      "89\n",
      "HelloWorld\n",
      "91\n",
      "92\n",
      "Hello\n",
      "94\n",
      "World\n",
      "Hello\n",
      "97\n",
      "98\n",
      "Hello\n",
      "World\n"
     ]
    }
   ],
   "source": [
    "#1.a\n",
    "\n",
    "for i in range(1, 101): #range to define number from 1 to 100\n",
    "    #declaring the condition\n",
    "    if i%15 == 0: ##modulus 15 (3*5) to display numbers that are multiplied by both 3 and 5\n",
    "        print(\"HelloWorld\"); #replacing the numbers with Hello World\n",
    "    elif i%3 == 0: #modulus 3 to display numbers that are multiplied by 3\n",
    "        print(\"Hello\"); #replacing the numbers with Hello\n",
    "    elif i%5 == 0:#modulus 5 to display numbers that are multiplied by 5\n",
    "        print(\"World\"); #replacing the numbers with World\n",
    "    else:\n",
    "        print(i); #others, printing the number"
   ]
  },
  {
   "cell_type": "code",
   "execution_count": 2,
   "id": "2c4f8637",
   "metadata": {},
   "outputs": [
    {
     "name": "stdout",
     "output_type": "stream",
     "text": [
      "(1, 2, 'Hello', 4, 'World', 'Hello', 7, 8, 'Hello', 'World', 11, 'Hello', 13, 14, 'HelloWorld', 16, 17, 'Hello', 19, 'World', 'Hello', 22, 23, 'Hello', 'World', 26, 'Hello', 28, 29, 'HelloWorld', 31, 32, 'Hello', 34, 'World', 'Hello', 37, 38, 'Hello', 'World', 41, 'Hello', 43, 44, 'HelloWorld', 46, 47, 'Hello', 49, 'World', 'Hello', 52, 53, 'Hello', 'World', 56, 'Hello', 58, 59, 'HelloWorld', 61, 62, 'Hello', 64, 'World', 'Hello', 67, 68, 'Hello', 'World', 71, 'Hello', 73, 74, 'HelloWorld', 76, 77, 'Hello', 79, 'World', 'Hello', 82, 83, 'Hello', 'World', 86, 'Hello', 88, 89, 'HelloWorld', 91, 92, 'Hello', 94, 'World', 'Hello', 97, 98, 'Hello', 'World')\n",
      "\n",
      "\n",
      "(1, 2, 'Python', 4, 'Works', 'Python', 7, 8, 'Python', 'Works', 11, 'Python', 13, 14, 'PythonWorks', 16, 17, 'Python', 19, 'Works', 'Python', 22, 23, 'Python', 'Works', 26, 'Python', 28, 29, 'PythonWorks', 31, 32, 'Python', 34, 'Works', 'Python', 37, 38, 'Python', 'Works', 41, 'Python', 43, 44, 'PythonWorks', 46, 47, 'Python', 49, 'Works', 'Python', 52, 53, 'Python', 'Works', 56, 'Python', 58, 59, 'PythonWorks', 61, 62, 'Python', 64, 'Works', 'Python', 67, 68, 'Python', 'Works', 71, 'Python', 73, 74, 'PythonWorks', 76, 77, 'Python', 79, 'Works', 'Python', 82, 83, 'Python', 'Works', 86, 'Python', 88, 89, 'PythonWorks', 91, 92, 'Python', 94, 'Works', 'Python', 97, 98, 'Python', 'Works')\n"
     ]
    }
   ],
   "source": [
    "#1.b\n",
    "\n",
    "#to produce result in tuple\n",
    "list1 = [];\n",
    "for i in range(1, 101):\n",
    "    if i%15 == 0:\n",
    "        list1.append(\"HelloWorld\");\n",
    "        tup1=tuple(list1);\n",
    "    elif i%3 == 0:\n",
    "        list1.append(\"Hello\");\n",
    "        tup1=tuple(list1);\n",
    "    elif i%5 == 0:\n",
    "        list1.append(\"World\");\n",
    "        tup1=tuple(list1);\n",
    "    else:\n",
    "        list1.append(i);\n",
    "        tup1=tuple(list1);\n",
    "print(tup1);\n",
    "print(\"\\n\");\n",
    "\n",
    "#defining the tuple result to list then converting it to tuple\n",
    "tup_list = list(list1);\n",
    "for element in tup_list: #looping for each element in tup_list\n",
    "    if  element == \"Hello\":\n",
    "        tup_list[tup_list.index(element)] = \"Python\";\n",
    "    if  element == \"World\":\n",
    "        tup_list[tup_list.index(element)] = \"Works\";   \n",
    "    if  element == \"HelloWorld\":\n",
    "        tup_list[tup_list.index(element)] = \"PythonWorks\";\n",
    "    new_tuple = tuple(tup_list) #new variable for changed tup_list\n",
    "print(new_tuple);"
   ]
  },
  {
   "cell_type": "markdown",
   "id": "4698335c",
   "metadata": {},
   "source": [
    "# 2. The swap function\n",
    "        Write a function that swap the values of two input variables x and y (whatever the type). Try to do that also without a temporary variable"
   ]
  },
  {
   "cell_type": "code",
   "execution_count": 3,
   "id": "315d01b3",
   "metadata": {},
   "outputs": [
    {
     "name": "stdout",
     "output_type": "stream",
     "text": [
      "Enter first string: hello\n",
      "Enter second string: world\n",
      "Old data:  hello world\n",
      "New Data:  world hello\n"
     ]
    }
   ],
   "source": [
    "#defining two data in string\n",
    "input1 = str(input(\"Enter first string: \"));\n",
    "input2 = str(input(\"Enter second string: \"));\n",
    "print(\"Old data: \", input1, input2);\n",
    "\n",
    "#storing both data to input1\n",
    "input1 = input1 + input2;\n",
    "\n",
    "#extracting new data of input2 from updated data in input1\n",
    "input2 = input1[0 : (len(input1) - len(input2))]; #extracting the data using substring function (string[start:end]) from index 0 to length (input1 - input2)\n",
    "\n",
    "#extracting new data of input1 from updated data in input2\n",
    "input1 = input1[len(input2):]; #extracting data from index length (input2) until the end using substring fucntionthen storing it in input1\n",
    "\n",
    "print(\"New Data: \", input1, input2);"
   ]
  },
  {
   "cell_type": "markdown",
   "id": "73e0c722",
   "metadata": {},
   "source": [
    "# 3. Computing the distance\n",
    "    *Write a function that calculates and returns the euclidean distance between two points u and v,\n",
    "    *Where u and v are both 2-tuples (x,y). For example, if u=(3,0) and v=(0,4),\n",
    "    *The function should return 5"
   ]
  },
  {
   "cell_type": "code",
   "execution_count": 4,
   "id": "f9c57b1a",
   "metadata": {},
   "outputs": [
    {
     "name": "stdout",
     "output_type": "stream",
     "text": [
      "Enter the values, where u = (x1, y1) and v = (x2, y2): \n",
      "\n",
      "Enter x1 : 3\n",
      "Enter x2 : 0\n",
      "Enter y1 : 0\n",
      "Enter y2 : 4\n",
      "Distance between u = (3, 0) and v = (0, 4) is  5.0\n"
     ]
    }
   ],
   "source": [
    "print(\"Enter the values, where u = (x1, y1) and v = (x2, y2): \\n\");\n",
    "\n",
    "#input from user\n",
    "x1 = int(input(\"Enter x1 : \"));\n",
    "x2 = int(input(\"Enter x2 : \"));\n",
    "y1 = int(input(\"Enter y1 : \"));\n",
    "y2 = int(input(\"Enter y2 : \"));\n",
    "\n",
    "#defining the input as tuples\n",
    "u = [x1, y1];\n",
    "v = [x2, y2];\n",
    "\n",
    "#the formula is from Pythagorean distance/theorem to find Euclidean distance\n",
    "#[0] and [1] show the index of the data/input\n",
    "result = (( ((v[0] - u[0])**2) + ((v[1] - u[1])**2) )**0.5 ); \n",
    "\n",
    "\n",
    "print(\"Distance between u =\", (x1,y1), \"and v =\", (x2,y2), \"is \", result);"
   ]
  },
  {
   "cell_type": "markdown",
   "id": "687502f2",
   "metadata": {},
   "source": [
    "# 4. Counting letters\n",
    "    *Write a program to calculate the number of times each character occurs in a given string s.\n",
    "    *Ignore differences in capitalization\n",
    "   \n",
    "       s = \"Write a program that prints the numbers from 1 to 100. \\\n",
    "       But for multiples of three print Hello instead of the number and for the multiples of five print World. \\\n",
    "       For numbers which are multiples of both three and five print HelloWorld.\""
   ]
  },
  {
   "cell_type": "code",
   "execution_count": 5,
   "id": "061e8723",
   "metadata": {},
   "outputs": [
    {
     "name": "stdout",
     "output_type": "stream",
     "text": [
      "Frequency of  w is 4\n",
      "Frequency of  r is 19\n",
      "Frequency of  i is 12\n",
      "Frequency of  t is 19\n",
      "Frequency of  e is 20\n",
      "Frequency of    is 47\n",
      "Frequency of  a is 7\n",
      "Frequency of  p is 8\n",
      "Frequency of  o is 15\n",
      "Frequency of  g is 1\n",
      "Frequency of  m is 8\n",
      "Frequency of  h is 11\n",
      "Frequency of  n is 10\n",
      "Frequency of  s is 7\n",
      "Frequency of  u is 7\n",
      "Frequency of  b is 5\n",
      "Frequency of  f is 10\n",
      "Frequency of  1 is 2\n",
      "Frequency of  0 is 2\n",
      "Frequency of  . is 3\n",
      "Frequency of  l is 12\n",
      "Frequency of  d is 5\n",
      "Frequency of  v is 2\n",
      "Frequency of  c is 1\n"
     ]
    }
   ],
   "source": [
    "s = \"Write a program that prints the numbers from 1 to 100. \\\n",
    "   But for multiples of three print Hello instead of the number and for the multiples of five print World. \\\n",
    "   For numbers which are multiples of both three and five print HelloWorld.\"\n",
    "\n",
    "char_freq = {}; #dict: key = character, value = times of occcurence\n",
    "\n",
    "#changing each character as lowercase form\n",
    "for x in s.lower():\n",
    "    #dict.setdefault(key, default) is used to set the value to the key\n",
    "    #key = key to be searched in the dict, default = default value for the key is None.\n",
    "    #if the key is present, it returns to value. if the key is not found, it will return to 0\n",
    "    char_freq.setdefault(x,0);\n",
    "    char_freq[x] +=1; #when the character is found, then count it\n",
    "\n",
    "for character, count in char_freq.items():#counting key-value pairs inside char_freq dict using iteration of .item()\n",
    "    print(\"Frequency of \", character, \"is\", count);"
   ]
  },
  {
   "cell_type": "markdown",
   "id": "cc9733ed",
   "metadata": {},
   "source": [
    "# 5. Isolating the unique\n",
    "    *Write a function that determines and count the unique numbers in the list\n",
    "    *Do the same without using user-defined functions, but exploiting only the Python data structures."
   ]
  },
  {
   "cell_type": "code",
   "execution_count": 6,
   "id": "c3be4875",
   "metadata": {},
   "outputs": [
    {
     "name": "stdout",
     "output_type": "stream",
     "text": [
      "List of numbers:  [36, 45, 58, 3, 74, 96, 64, 45, 31, 10, 24, 19, 33, 86, 99, 18, 63, 70, 85, 85, 63, 47, 56, 42, 70, 84, 88, 55, 20, 54, 8, 56, 51, 79, 81, 57, 37, 91, 1, 84, 84, 36, 66, 9, 89, 50, 42, 91, 50, 95, 90, 98, 39, 16, 82, 31, 92, 41, 45, 30, 66, 70, 34, 85, 94, 5, 3, 36, 72, 91, 84, 34, 87, 75, 53, 51, 20, 89, 51, 20]\n",
      "\n",
      "Unique numbers:  [36, 45, 58, 3, 74, 96, 64, 31, 10, 24, 19, 33, 86, 99, 18, 63, 70, 85, 47, 56, 42, 84, 88, 55, 20, 54, 8, 51, 79, 81, 57, 37, 91, 1, 66, 9, 89, 50, 95, 90, 98, 39, 16, 82, 92, 41, 30, 34, 94, 5, 72, 87, 75, 53]\n",
      "\n",
      "Total unique numbers:  54\n"
     ]
    }
   ],
   "source": [
    "#list\n",
    "l1 = [36, 45, 58, 3, 74, 96, 64, 45, 31, 10, 24, 19, 33, 86, 99, 18, 63, 70, 85,\n",
    " 85, 63, 47, 56, 42, 70, 84, 88, 55, 20, 54, 8, 56, 51, 79, 81, 57, 37, 91,\n",
    " 1, 84, 84, 36, 66, 9, 89, 50, 42, 91, 50, 95, 90, 98, 39, 16, 82, 31, 92, 41,\n",
    " 45, 30, 66, 70, 34, 85, 94, 5, 3, 36, 72, 91, 84, 34, 87, 75, 53, 51, 20, 89, 51, 20]\n",
    "\n",
    "#empty list\n",
    "l2 = [];\n",
    "count = 0;\n",
    "\n",
    "for i in l1:\n",
    "    #if the unique value doesn't appear in the list, then increasing the value of count by 1 and appending it (the value) to empty list\n",
    "    #if the unique value appears in the list, then no need to increase the count value and no need to append it to the empty list\n",
    "    if i not in l2:\n",
    "        count = count+1;\n",
    "        l2.append(i)\n",
    "\n",
    "print(\"List of numbers: \", l1);\n",
    "print(\"\\nUnique numbers: \", l2);\n",
    "print(\"\\nTotal unique numbers: \", count);"
   ]
  },
  {
   "cell_type": "markdown",
   "id": "5856f3f3",
   "metadata": {},
   "source": [
    "# 6. Combination of functions\n",
    "    *Write two functions - one that returns the square of a number, and one that returns the cube.\n",
    "    *Now write a third function that returns the number raised to the 6th power using the two previous functions."
   ]
  },
  {
   "cell_type": "code",
   "execution_count": 7,
   "id": "ef0bcf84",
   "metadata": {},
   "outputs": [
    {
     "name": "stdout",
     "output_type": "stream",
     "text": [
      "Input integer: 4\n",
      "Square of 4 is 16\n",
      "Cube of 4 is 64\n",
      "6th power of 4 is 1024\n"
     ]
    }
   ],
   "source": [
    "#input number\n",
    "numb = int(input(\"Input integer: \"));\n",
    "\n",
    "#function of square\n",
    "square = numb**2\n",
    "\n",
    "#function of cube\n",
    "cube = numb*numb*numb\n",
    "\n",
    "#function of 6th power\n",
    "power_6th = square*cube\n",
    "\n",
    "#printing result\n",
    "print(\"Square of {0} is {1}\".format(numb, square));\n",
    "print(\"Cube of {0} is {1}\".format(numb, cube));\n",
    "print(\"6th power of {0} is {1}\".format(numb, power_6th));"
   ]
  },
  {
   "cell_type": "markdown",
   "id": "64a04559",
   "metadata": {},
   "source": [
    "# 7. Cubes\n",
    "    Create a list of the cubes of x for x in [0, 10] using:\n",
    "        a) a for loop\n",
    "        b) a list comprehension"
   ]
  },
  {
   "cell_type": "code",
   "execution_count": 8,
   "id": "1dbe3b2e",
   "metadata": {},
   "outputs": [
    {
     "name": "stdout",
     "output_type": "stream",
     "text": [
      "[0, 3, 6, 9, 12, 15, 18, 21, 24, 27]\n",
      "[1, 2, 3, 4, 5, 6, 7, 8, 9]\n"
     ]
    }
   ],
   "source": [
    "#7.a with Loop\n",
    "cubes = [] #creating empty list of cubes, to store the cubes\n",
    "for i in range(0,10): #looping in range(0, 10) calculating the cube of number\n",
    "    cubes.append(i*3); #then the result is appended to the cubes list\n",
    "print(cubes);\n",
    "\n",
    "#7.b with list comprehension\n",
    "my_list = [i for i in range(1,10)]\n",
    "print(my_list);"
   ]
  },
  {
   "cell_type": "markdown",
   "id": "174cbeeb",
   "metadata": {},
   "source": [
    "# 8. Nested list comprehension\n",
    "    *A Pythagorean triple is an integer solution to the Pythagorean theorem $a^2+b^2=c^2$.\n",
    "    *The first Pythagorean triple is (3,4,5).\n",
    "    *Find and put in a tuple all unique Pythagorean triples for the positive integers a, b and c less than 100."
   ]
  },
  {
   "cell_type": "code",
   "execution_count": 9,
   "id": "19ff953a",
   "metadata": {},
   "outputs": [
    {
     "name": "stdout",
     "output_type": "stream",
     "text": [
      "List of Pythagorean triples:  [(3, 4, 5), (4, 3, 5), (5, 12, 13), (6, 8, 10), (7, 24, 25), (8, 6, 10), (8, 15, 17), (9, 12, 15), (9, 40, 41), (10, 24, 26), (11, 60, 61), (12, 5, 13), (12, 9, 15), (12, 16, 20), (12, 35, 37), (13, 84, 85), (14, 48, 50), (15, 8, 17), (15, 20, 25), (15, 36, 39), (16, 12, 20), (16, 30, 34), (16, 63, 65), (18, 24, 30), (18, 80, 82), (20, 15, 25), (20, 21, 29), (20, 48, 52), (21, 20, 29), (21, 28, 35), (21, 72, 75), (24, 7, 25), (24, 10, 26), (24, 18, 30), (24, 32, 40), (24, 45, 51), (24, 70, 74), (25, 60, 65), (27, 36, 45), (28, 21, 35), (28, 45, 53), (28, 96, 100), (30, 16, 34), (30, 40, 50), (30, 72, 78), (32, 24, 40), (32, 60, 68), (33, 44, 55), (33, 56, 65), (35, 12, 37), (35, 84, 91), (36, 15, 39), (36, 27, 45), (36, 48, 60), (36, 77, 85), (39, 52, 65), (39, 80, 89), (40, 9, 41), (40, 30, 50), (40, 42, 58), (40, 75, 85), (42, 40, 58), (42, 56, 70), (44, 33, 55), (45, 24, 51), (45, 28, 53), (45, 60, 75), (48, 14, 50), (48, 20, 52), (48, 36, 60), (48, 55, 73), (48, 64, 80), (51, 68, 85), (52, 39, 65), (54, 72, 90), (55, 48, 73), (56, 33, 65), (56, 42, 70), (57, 76, 95), (60, 11, 61), (60, 25, 65), (60, 32, 68), (60, 45, 75), (60, 63, 87), (60, 80, 100), (63, 16, 65), (63, 60, 87), (64, 48, 80), (65, 72, 97), (68, 51, 85), (70, 24, 74), (72, 21, 75), (72, 30, 78), (72, 54, 90), (72, 65, 97), (75, 40, 85), (76, 57, 95), (77, 36, 85), (80, 18, 82), (80, 39, 89), (80, 60, 100), (84, 13, 85), (84, 35, 91), (96, 28, 100)]\n",
      "\n",
      "Unique numbers:  ()\n"
     ]
    }
   ],
   "source": [
    "mylist = [(a,b,c) for a in range(1,101) for b in range(1,101) for c in range(1,101)if a**2 + b**2 == c**2];\n",
    "\n",
    "#empty list\n",
    "mylist2 = [];\n",
    "count = 0;\n",
    "\n",
    "for i in mylist2:\n",
    "    #if the unique value doesn't appear in the list, then increasing the value of count by 1 and appending it (the value) to empty list\n",
    "    #if the unique value appears in the list, then no need to increase the count value and no need to append it to the empty list\n",
    "    if i not in mylist2:\n",
    "        count = count+1;\n",
    "        mylist2.append(i)\n",
    "\n",
    "print(\"List of Pythagorean triples: \",mylist);\n",
    "print(\"\\nUnique numbers: \", tuple(mylist2));"
   ]
  },
  {
   "cell_type": "markdown",
   "id": "4fb91301",
   "metadata": {},
   "source": [
    "# 9. Normalization\n",
    "    Write a function that takes a tuple of numbers and returns it with the entries normalized to one\n"
   ]
  },
  {
   "cell_type": "code",
   "execution_count": 10,
   "id": "be46740c",
   "metadata": {},
   "outputs": [
    {
     "name": "stdout",
     "output_type": "stream",
     "text": [
      "[0.0, 0.25, 0.5, 0.75, 1.0]\n"
     ]
    }
   ],
   "source": [
    "x = (1, 2, 3, 4, 5);\n",
    "\n",
    "#formula of x_normalisation = (x - x_min) / (x_max)\n",
    "x_norm = [ (float(i) - min(x)) / (max(x) - min(x)) for i in x];\n",
    "print(x_norm);"
   ]
  }
 ],
 "metadata": {
  "kernelspec": {
   "display_name": "Python 3",
   "language": "python",
   "name": "python3"
  },
  "language_info": {
   "codemirror_mode": {
    "name": "ipython",
    "version": 3
   },
   "file_extension": ".py",
   "mimetype": "text/x-python",
   "name": "python",
   "nbconvert_exporter": "python",
   "pygments_lexer": "ipython3",
   "version": "3.8.8"
  }
 },
 "nbformat": 4,
 "nbformat_minor": 5
}
