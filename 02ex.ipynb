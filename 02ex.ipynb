{
 "cells": [
  {
   "cell_type": "markdown",
   "metadata": {},
   "source": [
    "# 1. Write the following expressions using the list comprehension"
   ]
  },
  {
   "cell_type": "code",
   "execution_count": 1,
   "metadata": {},
   "outputs": [
    {
     "name": "stdout",
     "output_type": "stream",
     "text": [
      "[(0, 0), (0, 1), (0, 2), (0, 3), (1, 0), (1, 1), (1, 2), (1, 3), (2, 0), (2, 1), (2, 2), (2, 3)]\n",
      "[1, 9, 25, 49, 81]\n"
     ]
    }
   ],
   "source": [
    "# 1\n",
    "ans = []\n",
    "for i in range(3):\n",
    "    for j in range(4):\n",
    "        ans.append((i, j));\n",
    "print(ans);\n",
    "\n",
    "# 2\n",
    "ans = map(lambda x: x * x, filter(lambda x: x % 2 == 1, range(10)));\n",
    "print(list(ans));"
   ]
  },
  {
   "cell_type": "code",
   "execution_count": 2,
   "metadata": {},
   "outputs": [
    {
     "name": "stdout",
     "output_type": "stream",
     "text": [
      "[(0, 0), (1, 0), (2, 0), (0, 1), (1, 1), (2, 1), (0, 2), (1, 2), (2, 2), (0, 3), (1, 3), (2, 3)]\n"
     ]
    }
   ],
   "source": [
    "#using nested loop comprehension\n",
    "ans =  [(i,j) for j in range (4) for i in range (3)]; #(epression or output (i,j) inside the collection(for j in range) inside the collection (for i in range)\n",
    "print(ans);"
   ]
  },
  {
   "cell_type": "code",
   "execution_count": 3,
   "metadata": {},
   "outputs": [
    {
     "name": "stdout",
     "output_type": "stream",
     "text": [
      "[1, 9, 25, 49, 81]\n"
     ]
    }
   ],
   "source": [
    "#map(function_to_apply, list_of_inputs)\n",
    "ans = list(map(lambda x: x * x, filter(lambda x: x % 2 == 1, range(10))));\n",
    "print(ans);"
   ]
  },
  {
   "cell_type": "markdown",
   "metadata": {},
   "source": [
    "## 2. Convert the function $f$ into a function that doesn't use global variables and that does not modify the original list"
   ]
  },
  {
   "cell_type": "code",
   "execution_count": 4,
   "metadata": {},
   "outputs": [
    {
     "name": "stdout",
     "output_type": "stream",
     "text": [
      "[1, 2, 3, 0, 1, 2, 3, 4]\n",
      "[1, 2, 3, 0, 1, 2, 3, 4]\n"
     ]
    }
   ],
   "source": [
    "x = 5\n",
    "def f(alist):\n",
    "    for i in range(x):\n",
    "         alist.append(i);\n",
    "    return alist;\n",
    "\n",
    "alist = [1,2,3];\n",
    "ans = f(alist);\n",
    "print(ans);\n",
    "print(alist); # alist has been changed!"
   ]
  },
  {
   "cell_type": "code",
   "execution_count": 5,
   "metadata": {},
   "outputs": [
    {
     "name": "stdout",
     "output_type": "stream",
     "text": [
      "[1, 2, 3, 0, 1, 2, 3, 4]\n",
      "[1, 2, 3, 0, 1, 2, 3, 4]\n"
     ]
    }
   ],
   "source": [
    "def f(a2_list, x=5): #a2_list is a local variable\n",
    "    for i in range(x):\n",
    "        a2_list.append(i);        \n",
    "    return  a2_list;\n",
    "\n",
    "\n",
    "alist = [1,2,3];\n",
    "ans = f(alist);\n",
    "print(ans);\n",
    "print(alist); # alist has been changed!"
   ]
  },
  {
   "cell_type": "markdown",
   "metadata": {},
   "source": [
    "## 3. Write a `decorator` hello that makes every wrapped function print “Hello!”, i.e. something like:"
   ]
  },
  {
   "cell_type": "markdown",
   "metadata": {},
   "source": [
    "```python\n",
    "@hello\n",
    "def square(x):\n",
    "    return x*x\n",
    "```\n",
    "\n"
   ]
  },
  {
   "cell_type": "code",
   "execution_count": 6,
   "metadata": {},
   "outputs": [
    {
     "name": "stdout",
     "output_type": "stream",
     "text": [
      "Hello!\n",
      "100\n",
      "Hello!\n"
     ]
    }
   ],
   "source": [
    "def hello(func):\n",
    "    def say_hello(*x):\n",
    "        print(\"Hello!\");\n",
    "        func(*x);\n",
    "        print(\"Hello!\");\n",
    "    return say_hello;\n",
    "\n",
    "@hello\n",
    "def square(x):\n",
    "    print(x*x);\n",
    "    return x*x;\n",
    "    \n",
    "(square(10));"
   ]
  },
  {
   "cell_type": "markdown",
   "metadata": {},
   "source": [
    "4\\. Write the factorial function in two different ways, so that it a) does and b) does not use recursion."
   ]
  },
  {
   "cell_type": "code",
   "execution_count": 7,
   "metadata": {},
   "outputs": [
    {
     "name": "stdout",
     "output_type": "stream",
     "text": [
      "Enter a number: 4\n",
      "24\n"
     ]
    }
   ],
   "source": [
    "#a. with recursion\n",
    "\n",
    "n = input(\"Enter a number: \");\n",
    "def factorial(n):\n",
    "    if n == 1:\n",
    "       return n; #if the number is 1, the output is 1\n",
    "    elif n < 1:\n",
    "       return (\"not available\"); #if the number is less than 1, the output is not available since the\n",
    "    else:\n",
    "       return n*factorial(n-1); #n! = n(n-1)! is the formula of the factorial\n",
    "\n",
    "print(factorial(int(n)));"
   ]
  },
  {
   "cell_type": "code",
   "execution_count": 8,
   "metadata": {},
   "outputs": [
    {
     "name": "stdout",
     "output_type": "stream",
     "text": [
      "Enter a number: 4\n",
      "Factorial of  4  is :  24\n"
     ]
    }
   ],
   "source": [
    "#b. without recursion using loop\n",
    "\n",
    "n = input(\"Enter a number: \");\n",
    "factorial = 1;\n",
    "if int(n) >= 1: #the input of n is in integer and min numb is 1\n",
    "    for i in range (1,int(n)+1): #for i started from 1\n",
    "       factorial = factorial * i; #will be multiplied by i\n",
    "    \n",
    "print(\"Factorial of \",n , \" is : \",factorial);"
   ]
  },
  {
   "cell_type": "markdown",
   "metadata": {},
   "source": [
    "5\\. Use HOFs #High Order Fucntion (zip in particular) to compute the weight of a circle, a disk and a sphere, assuming different radii and different densities:\n",
    "\n",
    "```python\n",
    "densities = {\"Al\" : [0.5, 1, 2], \"Fe\" : [3, 4, 5], \"Pb\" : [15, 20, 30]}\n",
    "radii = [1, 2, 3]\n",
    "```\n",
    "\n",
    "where the entries of the dictionary's values are the linear, superficial and volumetric densities of the materials respectively.\n",
    "\n",
    "Subsequently, define a list using a comprehension with three lambda functions that compute the circumference, the area and the volume for a given radius.\n"
   ]
  },
  {
   "cell_type": "code",
   "execution_count": 9,
   "metadata": {
    "scrolled": true
   },
   "outputs": [
    {
     "name": "stdout",
     "output_type": "stream",
     "text": [
      "\u001b[1m  \n",
      "Al\n",
      "\u001b[0mCircle: \n",
      "Density = 0.5, Radius = 1, Weight = 3.141592653589793\n",
      "Disk: \n",
      "Density = 1, Radius = 2, Weight = 12.566370614359172\n",
      "Sphere: \n",
      "Density = 2, Radius = 3, Weight = 226.19467105846508\n",
      "\u001b[1m  \n",
      "Fe\n",
      "\u001b[0mCircle: \n",
      "Density = 3, Radius = 1, Weight = 18.84955592153876\n",
      "Disk: \n",
      "Density = 4, Radius = 2, Weight = 50.26548245743669\n",
      "Sphere: \n",
      "Density = 5, Radius = 3, Weight = 565.4866776461627\n",
      "\u001b[1m  \n",
      "Pb\n",
      "\u001b[0mCircle: \n",
      "Density = 15, Radius = 1, Weight = 94.24777960769379\n",
      "Disk: \n",
      "Density = 20, Radius = 2, Weight = 251.32741228718345\n",
      "Sphere: \n",
      "Density = 30, Radius = 3, Weight = 3392.920065876976\n",
      "\n",
      "Using Lambda Function: \n",
      "[(6.283185307179586, 3.141592653589793, 4.1887902047863905), (12.566370614359172, 12.566370614359172, 33.510321638291124), (18.84955592153876, 28.274333882308138, 113.09733552923255)]\n"
     ]
    }
   ],
   "source": [
    "from math import pi;\n",
    "\n",
    "densities = {\"\\nAl\" : [0.5, 1, 2], \"\\nFe\" : [3, 4, 5], \"\\nPb\" : [15, 20, 30]};\n",
    "radii = [1, 2, 3];\n",
    "\n",
    "#computing weight for each shape and radius\n",
    "for elements in densities:\n",
    "    print(\"\\033[1m \", elements); #to show the name of the element\n",
    "    for i, (density, r) in enumerate(zip(densities[elements], radii)): #to get elements of multiple list and indexes\n",
    "        if i==0:\n",
    "            w = 2*pi*r*density\n",
    "            print(\"\\033[0mCircle: \");\n",
    "        elif i==1:\n",
    "            w = pi*(r**2)*density;\n",
    "            print(\"Disk: \");\n",
    "        else:\n",
    "            w = 4/3*pi*(r**3)*density;\n",
    "            print(\"Sphere: \");\n",
    "        print(\"Density = {}, Radius = {}, Weight = {}\".format(density, r, w));\n",
    "\n",
    "#using lambda functions to compute the circumference, the area, and the volume in a list\n",
    "print(\"\\nUsing Lambda Function: \");\n",
    "\n",
    "list = [( (lambda a : 2*pi*a)(a), (lambda a : pi*(a**2))(a), (lambda a : 4*pi*(a**3)/3)(a) ) for a in radii];\n",
    "print(list);"
   ]
  },
  {
   "cell_type": "markdown",
   "metadata": {},
   "source": [
    "6\\. Edit the class defintion to add an instance attribute of `is_hungry = True` to the Dog class. Then add a method called `eat()` which changes the value of `is_hungry` to `False` when called. Figure out the best way to instantiate the dog objects and to feed the dogs, e.g. call the `eat()` method for all instances. Finally, print “My dogs are hungry.” or “My dogs are not hungry.” if all of them have `is_hungry = True` or `False`, respectively. The final output should look like this:\n",
    "\n",
    "`I have 3 dogs. \n",
    "Tom is 6. \n",
    "Fletcher is 7. \n",
    "Larry is 9. \n",
    "And they're all mammals, of course. \n",
    "My dogs are not hungry.\n",
    "`\n",
    "\n",
    "```python"
   ]
  },
  {
   "cell_type": "code",
   "execution_count": 10,
   "metadata": {},
   "outputs": [
    {
     "name": "stdout",
     "output_type": "stream",
     "text": [
      "I have 3 dogs.\n",
      "Tom is 6.\n",
      "Fletcher is 7.\n",
      "Larry is 9.\n",
      "And they're all mammals, of course.\n",
      "My dogs are not hungry.\n"
     ]
    }
   ],
   "source": [
    "# Parent class\n",
    "class Pets:\n",
    "\n",
    "    dogs = []\n",
    "\n",
    "    def __init__(self, dogs):\n",
    "        self.dogs = dogs\n",
    "        \n",
    "class Dog:\n",
    "\n",
    "    # Class attribute\n",
    "    species = 'mammal';\n",
    "\n",
    "\n",
    "    # Initializer / Instance attributes\n",
    "    def __init__(self, name, age):\n",
    "        self.name = name;\n",
    "        self.age = age;\n",
    "        self.is_hungry = True;\n",
    "\n",
    "    # instance method\n",
    "    def description(self):\n",
    "        return \"{} is {}. \\n\".format(self.name, self.age);\n",
    "\n",
    "    # instance method\n",
    "    def speak(self, sound):\n",
    "        return \"{} says {}\".format(self.name, sound);\n",
    "    \n",
    "    def eat(self):\n",
    "        self.is_hungry = False;\n",
    "\n",
    "# Child class (inherits from Dog class)\n",
    "class RussellTerrier(Dog):\n",
    "    def run(self, speed):\n",
    "        return \"{} runs {}\".format(self.name, speed)\n",
    "\n",
    "# Child class (inherits from Dog class)\n",
    "class Bulldog(Dog):\n",
    "    def run(self, speed):\n",
    "        return \"{} runs {}\".format(self.name, speed)\n",
    "\n",
    "# Create instances of dogs\n",
    "my_dogs = [\n",
    "    Bulldog(\"Tom\", 6), \n",
    "    RussellTerrier(\"Fletcher\", 7), \n",
    "    Dog(\"Larry\", 9)\n",
    "]\n",
    "\n",
    "# Instantiate the Pets class\n",
    "my_pets = Pets(my_dogs)\n",
    "\n",
    "# Output\n",
    "print(\"I have {} dogs.\".format(len(my_pets.dogs)))\n",
    "for dog in my_pets.dogs:\n",
    "    dog.eat()\n",
    "    print(\"{} is {}.\".format(dog.name, dog.age))\n",
    "\n",
    "print(\"And they're all {}s, of course.\".format(dog.species))\n",
    "\n",
    "are_my_dogs_hungry = False\n",
    "for dog in my_pets.dogs:\n",
    "    if dog.is_hungry:\n",
    "        are_my_dogs_hungry = True\n",
    "\n",
    "if are_my_dogs_hungry:\n",
    "    print(\"My dogs are hungry.\")\n",
    "else:\n",
    "    print(\"My dogs are not hungry.\")  "
   ]
  }
 ],
 "metadata": {
  "kernelspec": {
   "display_name": "Python 3",
   "language": "python",
   "name": "python3"
  },
  "language_info": {
   "codemirror_mode": {
    "name": "ipython",
    "version": 3
   },
   "file_extension": ".py",
   "mimetype": "text/x-python",
   "name": "python",
   "nbconvert_exporter": "python",
   "pygments_lexer": "ipython3",
   "version": "3.8.8"
  }
 },
 "nbformat": 4,
 "nbformat_minor": 2
}
