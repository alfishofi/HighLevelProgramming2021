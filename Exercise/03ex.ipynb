{
 "cells": [
  {
   "cell_type": "markdown",
   "metadata": {},
   "source": [
    "1\\. Write a function that converts numbers among the bin, dec, and hex representations (bin<->dec<->hex)"
   ]
  },
  {
   "cell_type": "code",
   "execution_count": 1,
   "metadata": {},
   "outputs": [
    {
     "name": "stdout",
     "output_type": "stream",
     "text": [
      "Converting from: \n",
      "\n",
      "1. Decimal\n",
      "2. Binary\n",
      "3. Hexadecimal\n",
      "4. Exit\n",
      "\n",
      "Enter the option: 1\n",
      "\n",
      "Enter Decimal Value: 5\n",
      "\n",
      "Convert to: \n",
      "1. Decimal\n",
      "2. Binary\n",
      "3. Hexadecimal\n",
      "4. Exit\n",
      "\n",
      "Enter the option: 2\n",
      "0b101\n",
      "5\n",
      "1. Decimal\n",
      "2. Binary\n",
      "3. Hexadecimal\n",
      "4. Exit\n",
      "\n",
      "Enter the option: 4\n"
     ]
    }
   ],
   "source": [
    "#creating menu\n",
    "\n",
    "print(\"Converting from: \\n\")\n",
    "\n",
    "def menu():\n",
    "    print(\"1. Decimal\")\n",
    "    print(\"2. Binary\")\n",
    "    print(\"3. Hexadecimal\")\n",
    "    print(\"4. Exit\")\n",
    "    choose = int(input(\"\\nEnter the option: \"))\n",
    "    return choose\n",
    "\n",
    "def toDecimal(d):\n",
    "    return int(d)\n",
    "\n",
    "def toBinary(b):\n",
    "    return bin(b)\n",
    "\n",
    "def toHexadecimal(h):\n",
    "    return hex(h)\n",
    "\n",
    "#converting the values\n",
    "def convert_to(value):\n",
    "    print(\"\\nConvert to: \")\n",
    "    choice = menu()\n",
    "    \n",
    "    if choice == 1:\n",
    "        print(int(toDecimal (value)))\n",
    "        choice = 4\n",
    "        \n",
    "    elif choice == 2:\n",
    "        print(str(toBinary (value)))\n",
    "        choice = 4\n",
    "    \n",
    "    elif choice == 3:\n",
    "        print(str(toHexadecimal (value)))\n",
    "        choice = 4\n",
    "        \n",
    "def main():\n",
    "    choice = 0\n",
    "    while choice != 4:\n",
    "        choice = menu()\n",
    "        if choice == 1:\n",
    "            #convert decimal to..\n",
    "            d = eval(input(\"\\nEnter Decimal Value: \"))\n",
    "            convert_to(d)\n",
    "            print(int(toDecimal (d)))\n",
    "        \n",
    "        elif choice == 2:\n",
    "            #convert binary to..\n",
    "            b = eval(input(\"\\nEnter Binary Value: \"))\n",
    "            convert_to(b)\n",
    "            \n",
    "        elif choice == 3:\n",
    "            #convert hexadecimal to..\n",
    "            h = eval(input(\"\\nEnter Hexadecimal Value: \"))\n",
    "            convert_to(h)\n",
    "main()"
   ]
  },
  {
   "cell_type": "markdown",
   "metadata": {},
   "source": [
    "2\\. Write a function that converts a 32 bit word into a single precision floating point (i.e. interprets the various bits as sign, mantissa and exponent) and check its validity."
   ]
  },
  {
   "cell_type": "code",
   "execution_count": 2,
   "metadata": {},
   "outputs": [
    {
     "name": "stdout",
     "output_type": "stream",
     "text": [
      "Representation of -2.25000 is \n",
      "1|10000000|00100000000000000000000000000000\n"
     ]
    }
   ],
   "source": [
    "#function to convert a fraction to binary form\n",
    "def binary_frac(fraction):\n",
    "    \n",
    "#declaring an empty string to store binary bits\n",
    "    binary = str()\n",
    "\n",
    "#iterating through fraction until it becomes 0\n",
    "    while(fraction):\n",
    "        #multiplying fraction by 2\n",
    "        fraction *= 2\n",
    "        \n",
    "        #storing integer of fraction\n",
    "        if(fraction >= 1):\n",
    "            int_fract = 1\n",
    "            fraction -= 1\n",
    "        else:\n",
    "            int_fract = 0\n",
    "        \n",
    "        #adding my_list to binary every iteration\n",
    "        binary += str(int_fract)\n",
    "    return binary\n",
    "\n",
    "#getting sign bit, exponent bits, and mantissa bits from given real number\n",
    "def floating_point(real_num):\n",
    "\n",
    "#setting bit to 1 for negative num\n",
    "    if(real_num < 0):\n",
    "        sign_bit = 1\n",
    "        \n",
    "#converting given number to absolute value\n",
    "    real_num = abs(real_num)\n",
    "\n",
    "#converting integer of real number to binary\n",
    "    int_bin = bin(int(real_num))[2:]\n",
    "\n",
    "#converting fraction of real number to binary\n",
    "    fract_real = binary_frac(real_num - int(real_num))\n",
    "\n",
    "#getting index where bit is high for the first time\n",
    "    index = int_bin.index('1')\n",
    "\n",
    "#adding 127 to converting the exponent to bias\n",
    "    exponent_str = bin( (len(int_bin) - index - 1) + 127)[2:]\n",
    "\n",
    "#getting mantissa string\n",
    "    mantissa_str = int_bin[index + 1:] + fract_real\n",
    "\n",
    "#adding zero to make mantissa string length of 32 bits\n",
    "    mantissa_str = mantissa_str + (\"0\" * (32 - len(mantissa_str)))\n",
    "    \n",
    "    return sign_bit, exponent_str, mantissa_str\n",
    "\n",
    "#driver code\n",
    "if __name__ == \"__main__\":\n",
    "\n",
    "    sign_bit, exponent_str, mantissa_str = floating_point(-2.250000)\n",
    "\n",
    "#final floating point representation\n",
    "    ieee_32 = str(sign_bit) + \"|\" + exponent_str + \"|\" + mantissa_str\n",
    "\n",
    "    print(\"Representation of -2.25000 is \")\n",
    "    print(ieee_32)"
   ]
  },
  {
   "cell_type": "code",
   "execution_count": 3,
   "metadata": {},
   "outputs": [
    {
     "name": "stdout",
     "output_type": "stream",
     "text": [
      "Real number of  1|10000000|00100000000000 is -2.25\n"
     ]
    }
   ],
   "source": [
    "#validating the result\n",
    "#converting binary of mantissa to float value\n",
    "def convert_int(mantissa_str):\n",
    "\n",
    "#variable to make a count of negative power of 2\n",
    "    power_count = -1\n",
    "\n",
    "#variable to store float\n",
    "    mantissa_int = 0\n",
    "\n",
    "    for i in mantissa_str:\n",
    "        #adding converted value of binary bits\n",
    "        mantissa_int += (int(i)*pow(2, power_count))\n",
    "        \n",
    "        #moving toward right, count is decreased by 1\n",
    "        power_count -= 1\n",
    "    return (mantissa_int + 1)\n",
    "\n",
    "if __name__ == \"__main__\":\n",
    "    #floating point representation to real number\n",
    "    ieee_32 = \"1|10000000|00100000000000\"\n",
    "    \n",
    "    #signing bit\n",
    "    sign_bit = int(ieee_32[0])\n",
    "    \n",
    "    #the next 8 bits will be exponent bits in biased form\n",
    "    exponent_bias = int(ieee_32[2:10], 2)\n",
    "    \n",
    "    #in 32 bit format bias value is 127, so substracting it to be back to unbiased\n",
    "    exponent_unbias = exponent_bias - 127\n",
    "    \n",
    "    #32 bits in mantissa format\n",
    "    mantissa_str = ieee_32[11:]\n",
    "    \n",
    "    #converting 32 binary bits to mantissa real num\n",
    "    mantissa_int = convert_int(mantissa_str)\n",
    "    \n",
    "    #final real num is obtained by sign bit, mantissa, and exponent\n",
    "    real_num = pow(-1, sign_bit)*mantissa_int*pow(2, exponent_unbias)\n",
    "    \n",
    "    print(\"Real number of \", ieee_32, \"is\", real_num)"
   ]
  },
  {
   "cell_type": "markdown",
   "metadata": {},
   "source": [
    "3\\. Write a program to determine the underflow and overflow limits (within a factor of 2) for python on your computer. \n",
    "\n",
    "**Tip**: define two variables initialized to 1 and halve/double them for a sufficient amount of times to exceed the under/over-flow limits  "
   ]
  },
  {
   "cell_type": "code",
   "execution_count": 4,
   "metadata": {},
   "outputs": [
    {
     "name": "stdout",
     "output_type": "stream",
     "text": [
      "N times:  0 Underflow:  0.5  Overflow:  2\n",
      "N times:  1 Underflow:  0.25  Overflow:  4\n",
      "N times:  2 Underflow:  0.125  Overflow:  8\n",
      "N times:  3 Underflow:  0.0625  Overflow:  16\n",
      "N times:  4 Underflow:  0.03125  Overflow:  32\n"
     ]
    }
   ],
   "source": [
    "under = 1\n",
    "over = 1\n",
    "N = 5\n",
    "\n",
    "#it can use begin do, but here\n",
    "#looping for N times\n",
    "for i in range(N):\n",
    "    under = under/2\n",
    "    over = over*2\n",
    "    print(\"N times: \", i, \"Underflow: \", under, \" Overflow: \", over)"
   ]
  },
  {
   "cell_type": "markdown",
   "metadata": {},
   "source": [
    "4\\. Write a program to determine the machine precision\n",
    "\n",
    "**Tip**: define a new variable by adding an increasingly smaller value (in the same way as the previous problem) and check when the addition starts to have no effect on the number"
   ]
  },
  {
   "cell_type": "code",
   "execution_count": 5,
   "metadata": {},
   "outputs": [
    {
     "name": "stdout",
     "output_type": "stream",
     "text": [
      "  2.220446049250313e-16\n"
     ]
    }
   ],
   "source": [
    "add = 1\n",
    "base = 1\n",
    "\n",
    "while True:\n",
    "    if (add + base) != 1:\n",
    "        base /= 2\n",
    "        continue\n",
    "    else:\n",
    "        i = 2*base\n",
    "        print(\" \", i)\n",
    "        break"
   ]
  },
  {
   "cell_type": "markdown",
   "metadata": {},
   "source": [
    "5\\. Write a function that takes in input three parameters $a$, $b$ and $c$ and prints out the two solutions to the quadratic equation $ax^2+bx+c=0$ using the standard formula:\n",
    "$$\n",
    "x=\\frac{-b\\pm\\sqrt{b^2-4ac}}{2a}\n",
    "$$\n",
    "\n",
    "(a) use the program to compute the solution for $a=0.001$, $b=1000$ and $c=0.001$\n",
    "\n",
    "(b) re-express the standard solution formula by multiplying the numerator and the denominator by $-b\\mp\\sqrt{b^2-4ac}$ and again find the solution for $a=0.001$, $b=1000$ and $c=0.001$. How does it compare with what has been previously obtained, and why?\n",
    "\n",
    "(c) write a function that computes the roots of a quadratic equation accurately in all cases"
   ]
  },
  {
   "cell_type": "code",
   "execution_count": 6,
   "metadata": {},
   "outputs": [
    {
     "name": "stdout",
     "output_type": "stream",
     "text": [
      "a. The solution are (-9.999894245993346e-07+0j) and (-999999.999999+0j) \n",
      "The more similar two numbers are, the more precision you can lose from subtracting them. \n",
      "In this case √(b² – 4ac) is very nearly equal to b.\n",
      "\n",
      "b. The solution are (-1000010.5755125057-0j) and (-1.000000000001e-06-0j) \n",
      "The familiar version of the quadratic formula computes the larger root correctly, \n",
      "and the new version computes the smaller root correctly. Neither version is better overall.\n",
      "\n",
      "c. The solution: [-1.e+06 -1.e-06]\n"
     ]
    }
   ],
   "source": [
    "# Solve the quadratic equation ax**2 + bx + c = 0\n",
    "\n",
    "# import complex math module\n",
    "import cmath\n",
    "\n",
    "#a\n",
    "a = 0.001\n",
    "b = 1000\n",
    "c = 0.001\n",
    "\n",
    "# calculate the discriminant\n",
    "d = (b**2) - (4*a*c)\n",
    "\n",
    "# find two solutions\n",
    "ans1 = (-b+cmath.sqrt(d))/(2*a)\n",
    "ans2 = (-b-cmath.sqrt(d))/(2*a)\n",
    "\n",
    "#b\n",
    "#multiplying numerator and denumerator\n",
    "\n",
    "ans3 = (2*c)/(-b+cmath.sqrt(d))\n",
    "ans4 = (2*c)/(-b-cmath.sqrt(d))\n",
    "\n",
    "#c\n",
    "# import numpy library\n",
    "import numpy as np\n",
    "  \n",
    "# Enter the coefficients of the poly in the array\n",
    "coeff = [a, b, c]\n",
    "\n",
    "\n",
    "print('a. The solution are {0} and {1}'.format(ans1,ans2), \"\\nThe more similar two numbers are, the more precision you can lose from subtracting them. \\nIn this case √(b² – 4ac) is very nearly equal to b.\")\n",
    "print('\\nb. The solution are {0} and {1}'.format(ans3,ans4), \"\\nThe familiar version of the quadratic formula computes the larger root correctly, \\nand the new version computes the smaller root correctly. Neither version is better overall.\")\n",
    "print('\\nc. The solution:',np.roots(coeff))"
   ]
  },
  {
   "cell_type": "markdown",
   "metadata": {},
   "source": [
    "6\\. Write a program that implements the function $f(x)=x(x−1)$\n",
    "\n",
    "(a) Calculate the derivative of the function at the point $x = 1$ using the derivative definition:\n",
    "\n",
    "$$\n",
    "\\frac{{\\rm d}f}{{\\rm d}x} = \\lim_{\\delta\\to0} \\frac{f(x+\\delta)-f(x)}{\\delta}\n",
    "$$\n",
    "\n",
    "with $\\delta = 10^{−2}$. Calculate the true value of the same derivative analytically and compare it with the answer your program gives. The two will not agree perfectly. Why?\n",
    "\n",
    "(b) Repeat the calculation for $\\delta = 10^{−4}, 10^{−6}, 10^{−8}, 10^{−10}, 10^{−12}$ and $10^{−14}$. How does the accuracy scales with $\\delta$?"
   ]
  },
  {
   "cell_type": "code",
   "execution_count": 7,
   "metadata": {},
   "outputs": [
    {
     "name": "stdout",
     "output_type": "stream",
     "text": [
      "a.\n",
      "Derivative definition of f(1) with delta(0.01) is  1.010000000000001\n",
      "Analytic derivative of f(1) is  1\n",
      "The result is different because the more similar two numbers are, the more precision we can lose from subtracting them (catastrophic cancellation).\n",
      "\n",
      "b.\n",
      "Derivative definition of f(1) with d  0.0001 is  1.0000999999998899\n",
      "Derivative definition of f(1) with d  1e-06 is  1.0000009999177333\n",
      "Derivative definition of f(1) with d  1e-08 is  1.0000000039225287\n",
      "Derivative definition of f(1) with d  1e-10 is  1.000000082840371\n",
      "Derivative definition of f(1) with d  1e-12 is  1.0000889005833413\n",
      "Derivative definition of f(1) with d  1e-14 is  0.9992007221626509\n"
     ]
    }
   ],
   "source": [
    "d = 0.01 #delta\n",
    "x = 1\n",
    "\n",
    "def f(x):\n",
    "    return x*(x-1)\n",
    "\n",
    "#analitical derivative\n",
    "def der_analytic(x):\n",
    "    return (2*x - 1)\n",
    "\n",
    "#a, using derivative definition:\n",
    "def der_delta(x,d):\n",
    "    return( (f(x + d) - f(x)) / d )\n",
    "\n",
    "print(\"a.\")\n",
    "print(\"Derivative definition of f(1) with delta(0.01) is \", der_delta(x,d))\n",
    "print(\"Analytic derivative of f(1) is \", der_analytic(x))\n",
    "print(\"The result is different because the more similar two numbers are, the more precision we can lose from subtracting them (catastrophic cancellation).\")\n",
    "print(\"\\nb.\")\n",
    "\n",
    "#b\n",
    "d_list = [10**-4, 10**-6, 10**-8, 10**-10, 10**-12, 10**-14]\n",
    "\n",
    "for d in d_list:\n",
    "    print(\"Derivative definition of f(1) with d \", d, \"is \", der_delta(1,d))"
   ]
  },
  {
   "cell_type": "markdown",
   "metadata": {},
   "source": [
    "7\\. Consider the integral of the semicircle of radius 1:\n",
    "$$\n",
    "I=\\int_{-1}^{1} \\sqrt(1-x^2) {\\rm d}x\n",
    "$$\n",
    "which is known to be $I=\\frac{\\pi}{2}=1.57079632679...$.\n",
    "\n",
    "Alternatively we can use the Riemann definition of the integral:\n",
    "$$\n",
    "I=\\lim_{N\\to\\infty} \\sum_{k=1}^{N} h y_k \n",
    "$$\n",
    "\n",
    "with $h=2/N$ the width of each of the $N$ slices the domain is divided into and where\n",
    "$y_k$ is the value of the function at the $k-$th slice.\n",
    "\n",
    "(a) Write a program to compute the integral with $N=100$. How does the result compare to the true value?\n",
    "\n",
    "(b) How much can $N$ be increased if the computation needs to be run in less than a second? What is the gain in running it for 1 minute? \n"
   ]
  },
  {
   "cell_type": "code",
   "execution_count": 8,
   "metadata": {},
   "outputs": [],
   "source": [
    "import numpy as np\n",
    "import time"
   ]
  },
  {
   "cell_type": "code",
   "execution_count": 9,
   "metadata": {},
   "outputs": [
    {
     "name": "stdout",
     "output_type": "stream",
     "text": [
      "The result of I using Riemann is  1.5534179294048955 and the result of true value of I is 1.57079632679. \n",
      "It shows that there is not much different.\n"
     ]
    }
   ],
   "source": [
    "#a\n",
    "N = 100\n",
    "\n",
    "steps = np.linspace(-1,1,N)\n",
    "suma = 0.0\n",
    "for i in steps:\n",
    "    H = 2/len(steps)\n",
    "    y = (1-i**2)**(1/2)\n",
    "    temp = H*y\n",
    "    suma = temp + suma\n",
    "    \n",
    "print(\"The result of I using Riemann is \", suma, \"and the result of true value of I is 1.57079632679. \\nIt shows that there is not much different.\")"
   ]
  },
  {
   "cell_type": "code",
   "execution_count": 10,
   "metadata": {},
   "outputs": [
    {
     "name": "stdout",
     "output_type": "stream",
     "text": [
      "The result of I using Riemann is  1.5707950789553424\n",
      "For N <= 1260000, it takes less than  0.9305419921875 second\n"
     ]
    }
   ],
   "source": [
    "#b\n",
    "#N is increased to reach 1 second\n",
    "s1 = time.time()\n",
    "N = 1260000\n",
    "\n",
    "steps = np.linspace(-1,1,N)\n",
    "suma = 0.0\n",
    "for i in steps:\n",
    "    H = 2/len(steps)\n",
    "    y = (1-i**2)**(1/2)\n",
    "    temp = H*y\n",
    "    suma = temp + suma\n",
    "\n",
    "print(\"The result of I using Riemann is \", suma)\n",
    "\n",
    "#calculating time\n",
    "s2 = time.time()\n",
    "print(\"For N <= 1260000, it takes less than \", s2-s1, \"second\")"
   ]
  },
  {
   "cell_type": "code",
   "execution_count": 11,
   "metadata": {},
   "outputs": [
    {
     "name": "stdout",
     "output_type": "stream",
     "text": [
      "The result of I using Riemann is  1.5707963049754385\n",
      "N = 72000000 running for  55.6271448135376 seconds\n"
     ]
    }
   ],
   "source": [
    "#running for 1 min\n",
    "s1 = time.time()\n",
    "N = 1200000*60\n",
    "\n",
    "steps = np.linspace(-1,1,N)\n",
    "suma = 0.0\n",
    "for i in steps:\n",
    "    H = 2/len(steps)\n",
    "    y = (1-i**2)**(1/2)\n",
    "    temp = H*y\n",
    "    suma = temp + suma\n",
    "    \n",
    "print(\"The result of I using Riemann is \", suma)\n",
    "s2 = time.time()\n",
    "print(\"N = 72000000 running for \", s2-s1, \"seconds\")"
   ]
  },
  {
   "cell_type": "code",
   "execution_count": 12,
   "metadata": {},
   "outputs": [],
   "source": [
    "#from all those N times and I produced, we can see that the time difference is not significant"
   ]
  },
  {
   "cell_type": "code",
   "execution_count": null,
   "metadata": {},
   "outputs": [],
   "source": []
  }
 ],
 "metadata": {
  "kernelspec": {
   "display_name": "Python 3",
   "language": "python",
   "name": "python3"
  },
  "language_info": {
   "codemirror_mode": {
    "name": "ipython",
    "version": 3
   },
   "file_extension": ".py",
   "mimetype": "text/x-python",
   "name": "python",
   "nbconvert_exporter": "python",
   "pygments_lexer": "ipython3",
   "version": "3.8.8"
  }
 },
 "nbformat": 4,
 "nbformat_minor": 2
}
